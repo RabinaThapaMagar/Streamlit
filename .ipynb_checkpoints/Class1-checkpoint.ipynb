{
 "cells": [
  {
   "cell_type": "code",
   "execution_count": 1,
   "id": "dcffade6-3710-4f8f-8dcc-7dd680a953a2",
   "metadata": {},
   "outputs": [
    {
     "ename": "IndentationError",
     "evalue": "unexpected indent (791281100.py, line 2)",
     "output_type": "error",
     "traceback": [
      "  \u001b[36mCell\u001b[39m\u001b[36m \u001b[39m\u001b[32mIn[1]\u001b[39m\u001b[32m, line 2\u001b[39m\n\u001b[31m    \u001b[39m\u001b[31mSHift + ENter\u001b[39m\n    ^\n\u001b[31mIndentationError\u001b[39m\u001b[31m:\u001b[39m unexpected indent\n"
     ]
    }
   ],
   "source": [
    "Run : Ctrl + Enter\n",
    "    SHift + ENter\n",
    "\n",
    "\n",
    "Add cell: +\n",
    "     Esc b\n",
    "\n",
    "\n"
   ]
  },
  {
   "cell_type": "markdown",
   "id": "3f20dd0b-49ef-4176-8faa-4033a2c6b2c2",
   "metadata": {},
   "source": [
    "markdown for text ie documentation (markdown garera run garne)"
   ]
  },
  {
   "cell_type": "markdown",
   "id": "afc86f39-aed3-410f-b0d1-8e812bc9993d",
   "metadata": {},
   "source": [
    "#hello"
   ]
  },
  {
   "cell_type": "markdown",
   "id": "6b1429e9-d441-440a-b575-7731235876ee",
   "metadata": {},
   "source": [
    "- A"
   ]
  },
  {
   "cell_type": "markdown",
   "id": "afc79b39-d21c-4f43-b5f0-2bb1bd165a44",
   "metadata": {},
   "source": [
    "- A(for bullet) # - A for bullet"
   ]
  },
  {
   "cell_type": "markdown",
   "id": "72387428-d437-41b2-8a6c-4522380aa555",
   "metadata": {},
   "source": [
    "- A\n",
    "- B\n",
    "- C"
   ]
  },
  {
   "cell_type": "markdown",
   "id": "ded9ae96-9cb2-43e3-8f5e-67a795de1f8b",
   "metadata": {},
   "source": [
    "# hello"
   ]
  },
  {
   "cell_type": "markdown",
   "id": "c23c9a8b-97af-4b1f-9af6-ee08612ed7bc",
   "metadata": {},
   "source": [
    "## HEllo"
   ]
  },
  {
   "cell_type": "markdown",
   "id": "fb9abcf2-897e-4904-99d2-7f13df09da27",
   "metadata": {},
   "source": [
    "## Numpy"
   ]
  },
  {
   "cell_type": "code",
   "execution_count": null,
   "id": "68dc6cdc-29b8-4e94-87fe-d55edf6df3bb",
   "metadata": {},
   "outputs": [],
   "source": [
    "Numerical python\n",
    "Computing/statistical\n",
    "\n",
    "numpy arraye is homogenious ie same type ko arrayor data  ho\n",
    "list ma bhane  different type of data\n"
   ]
  },
  {
   "cell_type": "code",
   "execution_count": 15,
   "id": "5c13bec2-4dd2-4f50-adbf-84b0a40903f1",
   "metadata": {},
   "outputs": [
    {
     "name": "stdout",
     "output_type": "stream",
     "text": [
      "['a', 'data', '1']\n"
     ]
    }
   ],
   "source": [
    "#list\n",
    "abc = ['a','data','1']\n",
    "print(abc)"
   ]
  },
  {
   "cell_type": "code",
   "execution_count": 21,
   "id": "37170761-f5a6-4128-8a8d-c28b1b08d8a7",
   "metadata": {},
   "outputs": [
    {
     "name": "stdout",
     "output_type": "stream",
     "text": [
      "Defaulting to user installation because normal site-packages is not writeable\n",
      "Requirement already satisfied: numpy in c:\\users\\admin\\appdata\\roaming\\python\\python313\\site-packages (2.2.5)\n",
      "Note: you may need to restart the kernel to use updated packages.\n"
     ]
    },
    {
     "name": "stderr",
     "output_type": "stream",
     "text": [
      "\n",
      "[notice] A new release of pip is available: 25.0.1 -> 25.1.1\n",
      "[notice] To update, run: python.exe -m pip install --upgrade pip\n"
     ]
    }
   ],
   "source": [
    "\n",
    "pip install numpy "
   ]
  },
  {
   "cell_type": "code",
   "execution_count": 22,
   "id": "c8be116e-59a2-4b3d-942b-97c8ac374a01",
   "metadata": {},
   "outputs": [],
   "source": [
    "import numpy"
   ]
  },
  {
   "cell_type": "code",
   "execution_count": 26,
   "id": "1b7cae03-d4e7-4da7-bb2f-05b6fd58bc4a",
   "metadata": {},
   "outputs": [
    {
     "name": "stdout",
     "output_type": "stream",
     "text": [
      "Defaulting to user installation because normal site-packages is not writeable\n",
      "Requirement already satisfied: pip in c:\\program files\\python313\\lib\\site-packages (25.0.1)\n",
      "Collecting pip\n",
      "  Downloading pip-25.1.1-py3-none-any.whl.metadata (3.6 kB)\n",
      "Downloading pip-25.1.1-py3-none-any.whl (1.8 MB)\n",
      "   ---------------------------------------- 0.0/1.8 MB ? eta -:--:--\n",
      "   ---------------------------------------- 0.0/1.8 MB ? eta -:--:--\n",
      "   ---------------------------------------- 0.0/1.8 MB ? eta -:--:--\n",
      "   ----- ---------------------------------- 0.3/1.8 MB ? eta -:--:--\n",
      "   ----- ---------------------------------- 0.3/1.8 MB ? eta -:--:--\n",
      "   ----------- ---------------------------- 0.5/1.8 MB 448.4 kB/s eta 0:00:03\n",
      "   ----------- ---------------------------- 0.5/1.8 MB 448.4 kB/s eta 0:00:03\n",
      "   ----------- ---------------------------- 0.5/1.8 MB 448.4 kB/s eta 0:00:03\n",
      "   ----------- ---------------------------- 0.5/1.8 MB 448.4 kB/s eta 0:00:03\n",
      "   ----------- ---------------------------- 0.5/1.8 MB 448.4 kB/s eta 0:00:03\n",
      "   ----------- ---------------------------- 0.5/1.8 MB 448.4 kB/s eta 0:00:03\n",
      "   ----------------- ---------------------- 0.8/1.8 MB 307.7 kB/s eta 0:00:04\n",
      "   ----------------- ---------------------- 0.8/1.8 MB 307.7 kB/s eta 0:00:04\n",
      "   ----------------- ---------------------- 0.8/1.8 MB 307.7 kB/s eta 0:00:04\n",
      "   ----------------- ---------------------- 0.8/1.8 MB 307.7 kB/s eta 0:00:04\n",
      "   ----------------- ---------------------- 0.8/1.8 MB 307.7 kB/s eta 0:00:04\n",
      "   ---------------------- ----------------- 1.0/1.8 MB 278.6 kB/s eta 0:00:03\n",
      "   ---------------------- ----------------- 1.0/1.8 MB 278.6 kB/s eta 0:00:03\n",
      "   ---------------------- ----------------- 1.0/1.8 MB 278.6 kB/s eta 0:00:03\n",
      "   ---------------------- ----------------- 1.0/1.8 MB 278.6 kB/s eta 0:00:03\n",
      "   ---------------------- ----------------- 1.0/1.8 MB 278.6 kB/s eta 0:00:03\n",
      "   ---------------------- ----------------- 1.0/1.8 MB 278.6 kB/s eta 0:00:03\n",
      "   ---------------------------- ----------- 1.3/1.8 MB 253.2 kB/s eta 0:00:03\n",
      "   ---------------------------- ----------- 1.3/1.8 MB 253.2 kB/s eta 0:00:03\n",
      "   ---------------------------- ----------- 1.3/1.8 MB 253.2 kB/s eta 0:00:03\n",
      "   ---------------------------- ----------- 1.3/1.8 MB 253.2 kB/s eta 0:00:03\n",
      "   ---------------------------- ----------- 1.3/1.8 MB 253.2 kB/s eta 0:00:03\n",
      "   ---------------------------- ----------- 1.3/1.8 MB 253.2 kB/s eta 0:00:03\n",
      "   ---------------------------- ----------- 1.3/1.8 MB 253.2 kB/s eta 0:00:03\n",
      "   ---------------------------- ----------- 1.3/1.8 MB 253.2 kB/s eta 0:00:03\n",
      "   ---------------------------- ----------- 1.3/1.8 MB 253.2 kB/s eta 0:00:03\n",
      "   ---------------------------- ----------- 1.3/1.8 MB 253.2 kB/s eta 0:00:03\n",
      "   ---------------------------------- ----- 1.6/1.8 MB 207.4 kB/s eta 0:00:02\n",
      "   ---------------------------------- ----- 1.6/1.8 MB 207.4 kB/s eta 0:00:02\n",
      "   ---------------------------------- ----- 1.6/1.8 MB 207.4 kB/s eta 0:00:02\n",
      "   ---------------------------------- ----- 1.6/1.8 MB 207.4 kB/s eta 0:00:02\n",
      "   ---------------------------------- ----- 1.6/1.8 MB 207.4 kB/s eta 0:00:02\n",
      "   ---------------------------------- ----- 1.6/1.8 MB 207.4 kB/s eta 0:00:02\n",
      "   ---------------------------------- ----- 1.6/1.8 MB 207.4 kB/s eta 0:00:02\n",
      "   ---------------------------------------- 1.8/1.8 MB 199.8 kB/s eta 0:00:00\n",
      "Installing collected packages: pip\n",
      "Successfully installed pip-25.1.1\n",
      "Note: you may need to restart the kernel to use updated packages.\n"
     ]
    },
    {
     "name": "stderr",
     "output_type": "stream",
     "text": [
      "  WARNING: The scripts pip.exe, pip3.13.exe and pip3.exe are installed in 'C:\\Users\\admin\\AppData\\Roaming\\Python\\Python313\\Scripts' which is not on PATH.\n",
      "  Consider adding this directory to PATH or, if you prefer to suppress this warning, use --no-warn-script-location.\n"
     ]
    }
   ],
   "source": [
    " pip install --upgrade pip"
   ]
  },
  {
   "cell_type": "code",
   "execution_count": 34,
   "id": "178327a0-182f-4aea-95c8-f29781c5ed45",
   "metadata": {},
   "outputs": [],
   "source": [
    "import numpy as np"
   ]
  },
  {
   "cell_type": "code",
   "execution_count": 36,
   "id": "ad707e17-a0a1-417b-a412-660d8988eac4",
   "metadata": {},
   "outputs": [
    {
     "name": "stdout",
     "output_type": "stream",
     "text": [
      "[ 5  7  4  9 12]\n"
     ]
    }
   ],
   "source": [
    "x = np.array([5,7,4,9,12])\n",
    "print(x)"
   ]
  },
  {
   "cell_type": "code",
   "execution_count": 37,
   "id": "2803d8f1-00d9-40b3-adb2-b892889ed6ab",
   "metadata": {},
   "outputs": [
    {
     "ename": "SyntaxError",
     "evalue": "invalid syntax (2897025094.py, line 1)",
     "output_type": "error",
     "traceback": [
      "  \u001b[36mCell\u001b[39m\u001b[36m \u001b[39m\u001b[32mIn[37]\u001b[39m\u001b[32m, line 1\u001b[39m\n\u001b[31m    \u001b[39m\u001b[31mnumpy.\u001b[39m\n          ^\n\u001b[31mSyntaxError\u001b[39m\u001b[31m:\u001b[39m invalid syntax\n"
     ]
    }
   ],
   "source": [
    "numpy."
   ]
  },
  {
   "cell_type": "code",
   "execution_count": null,
   "id": "99c442ca-ec58-4bd4-a98c-2e8fc0ab9c43",
   "metadata": {},
   "outputs": [],
   "source": [
    "#numpy ko yo sab herara aune\n",
    "\n",
    "1.Indexing\n",
    "2.Slicing\n",
    "\n",
    "\n",
    "Attributes\n",
    "shape\n",
    "size\n",
    "ndim\n",
    "type"
   ]
  }
 ],
 "metadata": {
  "kernelspec": {
   "display_name": "Python 3 (ipykernel)",
   "language": "python",
   "name": "python3"
  },
  "language_info": {
   "codemirror_mode": {
    "name": "ipython",
    "version": 3
   },
   "file_extension": ".py",
   "mimetype": "text/x-python",
   "name": "python",
   "nbconvert_exporter": "python",
   "pygments_lexer": "ipython3",
   "version": "3.13.3"
  }
 },
 "nbformat": 4,
 "nbformat_minor": 5
}
