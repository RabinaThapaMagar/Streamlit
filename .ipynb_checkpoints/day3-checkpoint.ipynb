{
 "cells": [
  {
   "cell_type": "code",
   "execution_count": 3,
   "id": "ad0c4139-5091-495f-bc7d-b3e26cbd7076",
   "metadata": {},
   "outputs": [],
   "source": [
    "import numpy as np"
   ]
  },
  {
   "cell_type": "code",
   "execution_count": 4,
   "id": "bcc8e7a3-4bc1-4774-9ea8-8959bdac8690",
   "metadata": {},
   "outputs": [
    {
     "name": "stdout",
     "output_type": "stream",
     "text": [
      "[7 6 8 3]\n"
     ]
    }
   ],
   "source": [
    "x = np.array([5,4,6,1]) \n",
    "y = np.array([2,1,3,4])\n",
    "\n",
    "z = x+2\n",
    "print(z)"
   ]
  },
  {
   "cell_type": "code",
   "execution_count": null,
   "id": "7783e5d2-a2c1-4fd4-93e3-c0ab415d600d",
   "metadata": {},
   "outputs": [],
   "source": [
    "#Broadcasting \n",
    "[5,4,6,1]+[2,2,2,2,]"
   ]
  },
  {
   "cell_type": "code",
   "execution_count": 6,
   "id": "da98c4ee-7f63-48ac-8007-8c073a922155",
   "metadata": {},
   "outputs": [
    {
     "data": {
      "text/plain": [
       "array([[5, 4],\n",
       "       [6, 1]])"
      ]
     },
     "execution_count": 6,
     "metadata": {},
     "output_type": "execute_result"
    }
   ],
   "source": [
    "#reshaping\n",
    "x.reshape(2,2)"
   ]
  },
  {
   "cell_type": "code",
   "execution_count": 7,
   "id": "67831461-d698-48c2-b606-497c3ecd9b96",
   "metadata": {},
   "outputs": [
    {
     "ename": "ValueError",
     "evalue": "cannot reshape array of size 4 into shape (2,3)",
     "output_type": "error",
     "traceback": [
      "\u001b[31m---------------------------------------------------------------------------\u001b[39m",
      "\u001b[31mValueError\u001b[39m                                Traceback (most recent call last)",
      "\u001b[36mCell\u001b[39m\u001b[36m \u001b[39m\u001b[32mIn[7]\u001b[39m\u001b[32m, line 1\u001b[39m\n\u001b[32m----> \u001b[39m\u001b[32m1\u001b[39m \u001b[43mx\u001b[49m\u001b[43m.\u001b[49m\u001b[43mreshape\u001b[49m\u001b[43m(\u001b[49m\u001b[32;43m2\u001b[39;49m\u001b[43m,\u001b[49m\u001b[32;43m3\u001b[39;49m\u001b[43m)\u001b[49m\n",
      "\u001b[31mValueError\u001b[39m: cannot reshape array of size 4 into shape (2,3)"
     ]
    }
   ],
   "source": [
    "x.reshape(2,3) # 2*3 vaneko 6 ota element pugna parxa mathi 2*2 matrix ho so liyena error ayo size ni matter garxa matrix ko"
   ]
  },
  {
   "cell_type": "code",
   "execution_count": 8,
   "id": "9ffc59ac-0694-4077-bd7e-8a368e6ce4bf",
   "metadata": {},
   "outputs": [
    {
     "name": "stdout",
     "output_type": "stream",
     "text": [
      "(6,)\n"
     ]
    }
   ],
   "source": [
    "a = np.array([4,6,2,7,9,12]) # ie single dimension\n",
    "print(a.shape)"
   ]
  },
  {
   "cell_type": "code",
   "execution_count": null,
   "id": "36785db4-d861-4582-a46a-d2807c9b3e33",
   "metadata": {},
   "outputs": [],
   "source": [
    "(3,2)# yeti order ko matrix banna sakxa\n",
    "(2,3)\n",
    "(1,6)\n",
    "(6,1)"
   ]
  },
  {
   "cell_type": "code",
   "execution_count": 10,
   "id": "dfa40fc1-139d-45ad-9c48-13dea24b5891",
   "metadata": {},
   "outputs": [
    {
     "name": "stdout",
     "output_type": "stream",
     "text": [
      "[[ 4  6  2  7  9 12]]\n"
     ]
    }
   ],
   "source": [
    "print(a.reshape(1,6)) row matrix"
   ]
  },
  {
   "cell_type": "code",
   "execution_count": 11,
   "id": "1ee6ff43-5109-4482-a4c7-6b262736260d",
   "metadata": {},
   "outputs": [
    {
     "name": "stdout",
     "output_type": "stream",
     "text": [
      "[[ 4]\n",
      " [ 6]\n",
      " [ 2]\n",
      " [ 7]\n",
      " [ 9]\n",
      " [12]]\n"
     ]
    }
   ],
   "source": [
    "print(a.reshape(6,1))#column matrix"
   ]
  },
  {
   "cell_type": "code",
   "execution_count": null,
   "id": "ad925f41-57d6-43e9-9f04-1240b2736ee5",
   "metadata": {},
   "outputs": [],
   "source": [
    "#randomly generate hunxa number baru taala ko broadcasting haru use harera"
   ]
  },
  {
   "cell_type": "code",
   "execution_count": null,
   "id": "e3026d7f-04ef-402e-a337-52a18f1f9f03",
   "metadata": {},
   "outputs": [],
   "source": []
  },
  {
   "cell_type": "code",
   "execution_count": null,
   "id": "115be11d-b788-4e8e-9ee8-7cf76384a1a8",
   "metadata": {},
   "outputs": [],
   "source": []
  },
  {
   "cell_type": "code",
   "execution_count": null,
   "id": "9255950c-ad06-4cb6-ac4d-815774f30268",
   "metadata": {},
   "outputs": [],
   "source": []
  },
  {
   "cell_type": "code",
   "execution_count": null,
   "id": "c26fc5d0-9dfb-42cf-bc14-f0999bc8e415",
   "metadata": {},
   "outputs": [],
   "source": []
  },
  {
   "cell_type": "code",
   "execution_count": null,
   "id": "ca2082c0-f1d2-48ad-8e94-3b377dd21083",
   "metadata": {},
   "outputs": [],
   "source": [
    "#Broadcasting\n",
    "- np.zeros()\n",
    "- np.ones()\n",
    "- np.full()\n",
    "- np.arrange()\n",
    "- np.linspace()\n",
    "- np.random.random()\n",
    "- np.random.randint()\n",
    "- np.random.uniform()\n",
    "#random generation"
   ]
  },
  {
   "cell_type": "code",
   "execution_count": 12,
   "id": "a722875e-fba6-4eac-87d3-3b10a25490cf",
   "metadata": {},
   "outputs": [
    {
     "name": "stdout",
     "output_type": "stream",
     "text": [
      "[0. 0. 0. 0. 0.]\n"
     ]
    }
   ],
   "source": [
    "x = np.zeros(5) # sabai 5 ota elemnet 0 generate gardinxa\n",
    "print(x)"
   ]
  },
  {
   "cell_type": "code",
   "execution_count": 18,
   "id": "7d75820f-7447-4707-b897-4e52178103fb",
   "metadata": {},
   "outputs": [
    {
     "name": "stdout",
     "output_type": "stream",
     "text": [
      "[7 6 4 9]\n"
     ]
    }
   ],
   "source": [
    "x = np.array([5,4,2,7])\n",
    "z = np.add(x,2)\n",
    "#code ma kasari kaam garxa?\n",
    "print(z)"
   ]
  },
  {
   "cell_type": "code",
   "execution_count": null,
   "id": "309dfd5f-2fb3-4bb5-9fb5-24670ad4673a",
   "metadata": {},
   "outputs": [],
   "source": [
    "x = np.array([5,6,2,7])#banisakeko numpy array ma element thapna paryo  #yesti olp launa paryo\n",
    "#[5,6,3,2,10]  x = np.append(x,9)\n",
    "#[5,9,6,2,7]"
   ]
  },
  {
   "cell_type": "code",
   "execution_count": 20,
   "id": "520dce18-5800-48cf-b82c-cdb2ef0f4cf7",
   "metadata": {},
   "outputs": [
    {
     "name": "stdout",
     "output_type": "stream",
     "text": [
      "[5 6 2 7 9]\n"
     ]
    }
   ],
   "source": [
    "\n",
    "\n",
    "x = np.array([5,6,2,7])\n",
    "x = np.append(x,9)\n",
    "print(x)"
   ]
  },
  {
   "cell_type": "code",
   "execution_count": 24,
   "id": "b2842e47-bb87-4a12-b5f1-435b8f59cce1",
   "metadata": {},
   "outputs": [
    {
     "name": "stdout",
     "output_type": "stream",
     "text": [
      "[5 9 6 2 7]\n"
     ]
    }
   ],
   "source": [
    "\n",
    "x = np.array([5,6,2,7])\n",
    "z = np.insert(x,1,9)\n",
    "print(z)"
   ]
  },
  {
   "cell_type": "code",
   "execution_count": 22,
   "id": "45a9cf62-897a-4990-8b33-cc1e037179c8",
   "metadata": {},
   "outputs": [
    {
     "name": "stdout",
     "output_type": "stream",
     "text": [
      "[[0. 0. 0. 0. 0.]\n",
      " [0. 0. 0. 0. 0.]]\n"
     ]
    }
   ],
   "source": [
    "x = np.zeros((2,5)) #two rows 5 column\n",
    "print(x)"
   ]
  },
  {
   "cell_type": "code",
   "execution_count": 23,
   "id": "e32cc588-c8ab-47e4-898f-f5d5d1e05d63",
   "metadata": {},
   "outputs": [
    {
     "name": "stdout",
     "output_type": "stream",
     "text": [
      "[[0. 0. 0. 0. 0.]\n",
      " [0. 0. 0. 0. 0.]]\n"
     ]
    }
   ],
   "source": [
    "x = np.zeros(10).reshape(2,5)\n",
    "print(x)"
   ]
  },
  {
   "cell_type": "code",
   "execution_count": 25,
   "id": "bfce56cb-4d43-4c9e-9dfc-d9a68a70e9a0",
   "metadata": {},
   "outputs": [
    {
     "name": "stdout",
     "output_type": "stream",
     "text": [
      "[1. 1. 1. 1. 1.]\n"
     ]
    }
   ],
   "source": [
    "y = np.ones(5)\n",
    "print(y)"
   ]
  },
  {
   "cell_type": "code",
   "execution_count": 26,
   "id": "ad783bf1-525c-444e-95bd-9f6113e3894f",
   "metadata": {},
   "outputs": [],
   "source": [
    "#np.full() jun element deko xa tei lai fill gardinxa"
   ]
  },
  {
   "cell_type": "code",
   "execution_count": 27,
   "id": "dcf8c1fd-5e63-490b-b289-21ee37b8d71d",
   "metadata": {},
   "outputs": [
    {
     "name": "stdout",
     "output_type": "stream",
     "text": [
      "[5 5 5 5 5 5 5]\n"
     ]
    }
   ],
   "source": [
    "z = np.full(7,5) # element 5 bhayo ra 7 choti print garne\n",
    "print(z)"
   ]
  },
  {
   "cell_type": "code",
   "execution_count": 28,
   "id": "cf6f5510-ebe0-410d-aa12-92aa96dd219f",
   "metadata": {},
   "outputs": [
    {
     "name": "stdout",
     "output_type": "stream",
     "text": [
      "[[7 7 7]\n",
      " [7 7 7]]\n"
     ]
    }
   ],
   "source": [
    "z = np.full((2,3),7)\n",
    "print(z)"
   ]
  },
  {
   "cell_type": "code",
   "execution_count": 29,
   "id": "6f2fe804-5ac5-4250-98d2-f5931e0d54cf",
   "metadata": {},
   "outputs": [
    {
     "name": "stdout",
     "output_type": "stream",
     "text": [
      "[2 4 6 8]\n"
     ]
    }
   ],
   "source": [
    "#np.arrange\n",
    "#np.linspace\n",
    "#range(start index, stop index,stepsize)\n",
    "\n",
    "x = np.arange(2,10,2)  # syntas: np.arange(start,stop,step)\n",
    "print(x)\n"
   ]
  },
  {
   "cell_type": "code",
   "execution_count": 31,
   "id": "af791111-3556-4386-88bb-ff5e94e18711",
   "metadata": {},
   "outputs": [
    {
     "name": "stdout",
     "output_type": "stream",
     "text": [
      "[[2 4]\n",
      " [6 8]]\n"
     ]
    }
   ],
   "source": [
    "x = np.arange(2,10,2).reshape(2,2) \n",
    "print(x)"
   ]
  },
  {
   "cell_type": "code",
   "execution_count": 32,
   "id": "ddcb18b7-1040-4718-9e97-8eabd1a964d0",
   "metadata": {},
   "outputs": [
    {
     "name": "stdout",
     "output_type": "stream",
     "text": [
      "[ 1.    3.25  5.5   7.75 10.  ]\n"
     ]
    }
   ],
   "source": [
    "x = np.linspace(1,10,5)   #syntax : np.linspace(start,stop,number kati ota chahiyo)\n",
    "print(x)"
   ]
  },
  {
   "cell_type": "code",
   "execution_count": 33,
   "id": "c843da88-8ded-43a6-96dc-686074b99546",
   "metadata": {},
   "outputs": [
    {
     "name": "stdout",
     "output_type": "stream",
     "text": [
      "[ 1.          1.64285714  2.28571429  2.92857143  3.57142857  4.21428571\n",
      "  4.85714286  5.5         6.14285714  6.78571429  7.42857143  8.07142857\n",
      "  8.71428571  9.35714286 10.        ]\n"
     ]
    }
   ],
   "source": [
    "x = np.linspace(1,10,15)\n",
    "print(x)"
   ]
  },
  {
   "cell_type": "code",
   "execution_count": null,
   "id": "7855dec5-ec61-49fe-ab66-a65d6ed94d51",
   "metadata": {},
   "outputs": [],
   "source": [
    "# arange ra linspace ko difference auta ma step ho auta ma chai numbers ho"
   ]
  },
  {
   "cell_type": "code",
   "execution_count": null,
   "id": "c2fca7f7-3ae8-44cf-9aea-c66051bb9b4f",
   "metadata": {},
   "outputs": [],
   "source": [
    " np.random.random()#randomly numbers dinxa\n",
    "- np.random.randint()\n",
    "- np.random.uniform()"
   ]
  },
  {
   "cell_type": "code",
   "execution_count": 35,
   "id": "18a411fb-5052-4b66-a047-55d717bb55b5",
   "metadata": {},
   "outputs": [
    {
     "name": "stdout",
     "output_type": "stream",
     "text": [
      "[0.68124464 0.40326001 0.86686901 0.78102896 0.29123885 0.87087854]\n"
     ]
    }
   ],
   "source": [
    "x= np.random.random(6)   # generates random numbers between 0 to 1\n",
    "print(x)"
   ]
  },
  {
   "cell_type": "code",
   "execution_count": 36,
   "id": "34f36609-8b42-4f3f-b263-3830beb10d59",
   "metadata": {},
   "outputs": [
    {
     "name": "stdout",
     "output_type": "stream",
     "text": [
      "[[0.03564974 0.56084203]\n",
      " [0.6362059  0.21005068]\n",
      " [0.65815365 0.84826116]\n",
      " [0.00228771 0.55526364]\n",
      " [0.51694193 0.66521086]]\n"
     ]
    }
   ],
   "source": [
    "x = np.random.random((5,2))\n",
    "print(x)"
   ]
  },
  {
   "cell_type": "code",
   "execution_count": 40,
   "id": "531f4d78-d427-47c2-8470-bc44e62d0dd3",
   "metadata": {},
   "outputs": [
    {
     "name": "stdout",
     "output_type": "stream",
     "text": [
      "[1 3 0 1 0]\n"
     ]
    }
   ],
   "source": [
    "y = np.random.randint(0,10,5) # 0 dekhi jati samma jana man xa jana milxa integer number generate garna milxa\n",
    "print(y)"
   ]
  },
  {
   "cell_type": "code",
   "execution_count": 39,
   "id": "835db0b4-e2c8-466d-aa05-0de2917059c9",
   "metadata": {},
   "outputs": [
    {
     "name": "stdout",
     "output_type": "stream",
     "text": [
      "[8 2 8 7 1 0 9 1 2 1 6 1 8 5 1]\n"
     ]
    }
   ],
   "source": [
    "y = np.random.randint(0,10,15) \n",
    "print(y)"
   ]
  },
  {
   "cell_type": "code",
   "execution_count": null,
   "id": "f35a45d3-f204-42ba-a063-bb55120fadb7",
   "metadata": {},
   "outputs": [],
   "source": [
    "y = np.random.randint(0,10,15) # yesma 2 dimension chaye reshape garnu parxa\n",
    "print(y)"
   ]
  },
  {
   "cell_type": "code",
   "execution_count": 41,
   "id": "9cb7abbb-0cd2-4338-8cca-afc887d96194",
   "metadata": {},
   "outputs": [
    {
     "name": "stdout",
     "output_type": "stream",
     "text": [
      "[5.9620165  4.89090619 8.03393602 8.81406612 3.56456579]\n"
     ]
    }
   ],
   "source": [
    "z = np.random.uniform(0,10,5) #0 dekhi 10 samma floating point number randomly generate garxa\n",
    "print(z)"
   ]
  },
  {
   "cell_type": "markdown",
   "id": "be08ff79-6a4e-451a-a369-d3d5b86c529b",
   "metadata": {},
   "source": [
    "#pandas"
   ]
  },
  {
   "cell_type": "code",
   "execution_count": 42,
   "id": "f4e4b702-5d63-44d3-bbbe-e8ed78dbbef1",
   "metadata": {},
   "outputs": [],
   "source": [
    "#row column,table ma vako data lai operate garxa panda le\n",
    "# two data structure in pada\n",
    "\n"
   ]
  },
  {
   "cell_type": "markdown",
   "id": "fbc3de58-825e-45b7-a25a-e1a55944c111",
   "metadata": {},
   "source": [
    "#####Data Structure\n",
    "# 1.series\n",
    "# 2.DataFrame"
   ]
  },
  {
   "cell_type": "code",
   "execution_count": null,
   "id": "0648f54e-5e2f-47a9-bc7c-946c8d4d7152",
   "metadata": {},
   "outputs": [],
   "source": []
  },
  {
   "cell_type": "code",
   "execution_count": 44,
   "id": "b962575b-d1c9-494c-acfb-bae4452cb2fd",
   "metadata": {},
   "outputs": [
    {
     "name": "stdout",
     "output_type": "stream",
     "text": [
      "Defaulting to user installation because normal site-packages is not writeable\n",
      "Requirement already satisfied: pandas in c:\\users\\admin\\appdata\\roaming\\python\\python313\\site-packages (2.2.3)\n",
      "Requirement already satisfied: numpy>=1.26.0 in c:\\users\\admin\\appdata\\roaming\\python\\python313\\site-packages (from pandas) (2.2.5)\n",
      "Requirement already satisfied: python-dateutil>=2.8.2 in c:\\users\\admin\\appdata\\roaming\\python\\python313\\site-packages (from pandas) (2.9.0.post0)\n",
      "Requirement already satisfied: pytz>=2020.1 in c:\\users\\admin\\appdata\\roaming\\python\\python313\\site-packages (from pandas) (2025.2)\n",
      "Requirement already satisfied: tzdata>=2022.7 in c:\\users\\admin\\appdata\\roaming\\python\\python313\\site-packages (from pandas) (2025.2)\n",
      "Requirement already satisfied: six>=1.5 in c:\\users\\admin\\appdata\\roaming\\python\\python313\\site-packages (from python-dateutil>=2.8.2->pandas) (1.17.0)\n",
      "Note: you may need to restart the kernel to use updated packages.\n"
     ]
    }
   ],
   "source": [
    "pip install pandas\n"
   ]
  },
  {
   "cell_type": "code",
   "execution_count": 47,
   "id": "50d01ecc-24d7-4dfa-9a80-bb9990d5cec7",
   "metadata": {},
   "outputs": [],
   "source": [
    "import pandas as pd"
   ]
  },
  {
   "cell_type": "code",
   "execution_count": 48,
   "id": "f0ba13b8-bde0-466c-ba14-46a2c845f3e6",
   "metadata": {},
   "outputs": [
    {
     "name": "stdout",
     "output_type": "stream",
     "text": [
      "0    5\n",
      "1    7\n",
      "2    8\n",
      "3    9\n",
      "4    2\n",
      "dtype: int64\n"
     ]
    }
   ],
   "source": [
    "# Series\n",
    "x = pd.Series([5,7,8,9,2])\n",
    "print(x)"
   ]
  },
  {
   "cell_type": "code",
   "execution_count": 49,
   "id": "1649af39-efff-4d6c-8e9a-8c08eaff5d8b",
   "metadata": {},
   "outputs": [
    {
     "data": {
      "text/plain": [
       "np.int64(8)"
      ]
     },
     "execution_count": 49,
     "metadata": {},
     "output_type": "execute_result"
    }
   ],
   "source": [
    "x[2]#yesari element access ni garna milxa"
   ]
  },
  {
   "cell_type": "code",
   "execution_count": 50,
   "id": "28f121b1-4457-4cc9-a39c-2edbed50e3de",
   "metadata": {},
   "outputs": [
    {
     "name": "stdout",
     "output_type": "stream",
     "text": [
      "a    5\n",
      "b    7\n",
      "c    8\n",
      "d    9\n",
      "e    2\n",
      "dtype: int64\n"
     ]
    }
   ],
   "source": [
    "#series ko index afai dina ni milxa \n",
    "\n",
    "x = pd.Series([5,7,8,9,2],index=['a','b','c','d','e'])\n",
    "print(x)"
   ]
  },
  {
   "cell_type": "code",
   "execution_count": 54,
   "id": "490dc3eb-9d40-4552-9413-7d7de8312199",
   "metadata": {},
   "outputs": [
    {
     "name": "stdout",
     "output_type": "stream",
     "text": [
      "100    5\n",
      "101    7\n",
      "102    8\n",
      "103    9\n",
      "104    2\n",
      "dtype: int64\n"
     ]
    }
   ],
   "source": [
    "x = pd.Series([5,7,8,9,2],index=range(100,105)) # range garayera ni dina milxa\n",
    "print(x)"
   ]
  },
  {
   "cell_type": "code",
   "execution_count": null,
   "id": "b56f5584-1b46-481e-ac45-9136bda53ad1",
   "metadata": {},
   "outputs": [],
   "source": []
  },
  {
   "cell_type": "code",
   "execution_count": null,
   "id": "61a60145-154c-4708-9ec8-17edc7b1fc64",
   "metadata": {},
   "outputs": [],
   "source": [
    "#.loc() # yo duita function herera aunee\n",
    "#.iloc()"
   ]
  }
 ],
 "metadata": {
  "kernelspec": {
   "display_name": "Python 3 (ipykernel)",
   "language": "python",
   "name": "python3"
  },
  "language_info": {
   "codemirror_mode": {
    "name": "ipython",
    "version": 3
   },
   "file_extension": ".py",
   "mimetype": "text/x-python",
   "name": "python",
   "nbconvert_exporter": "python",
   "pygments_lexer": "ipython3",
   "version": "3.13.3"
  }
 },
 "nbformat": 4,
 "nbformat_minor": 5
}
