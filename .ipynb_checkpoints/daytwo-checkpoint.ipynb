{
 "cells": [
  {
   "cell_type": "code",
   "execution_count": null,
   "id": "63c2fdbd-620b-4913-9a94-e0b85da4b84c",
   "metadata": {},
   "outputs": [],
   "source": [
    "#Attributes \n",
    ".shape \n",
    ".size \n",
    ".ndim \n",
    ".dtype\n"
   ]
  },
  {
   "cell_type": "code",
   "execution_count": 1,
   "id": "51197305-8506-43ed-a42f-ef991b41a077",
   "metadata": {},
   "outputs": [],
   "source": [
    "import numpy as np"
   ]
  },
  {
   "cell_type": "code",
   "execution_count": 11,
   "id": "fc1732e0-6246-46ef-9464-80506905c051",
   "metadata": {},
   "outputs": [
    {
     "name": "stdout",
     "output_type": "stream",
     "text": [
      "[ 5  7  8  2  9 15]\n"
     ]
    }
   ],
   "source": [
    "x = np.array([5,7,8,2,9,15])\n",
    "print(x)"
   ]
  },
  {
   "cell_type": "code",
   "execution_count": 12,
   "id": "c6fa4dae-c5f0-4599-9713-0d476f7059f8",
   "metadata": {},
   "outputs": [
    {
     "name": "stdout",
     "output_type": "stream",
     "text": [
      "(6,)\n"
     ]
    }
   ],
   "source": [
    "#shape  no of rows and column in 1 d\n",
    "print(x.shape)"
   ]
  },
  {
   "cell_type": "code",
   "execution_count": 13,
   "id": "0a10b39f-97a6-488d-ac04-625e6d875203",
   "metadata": {},
   "outputs": [
    {
     "name": "stdout",
     "output_type": "stream",
     "text": [
      "6\n"
     ]
    }
   ],
   "source": [
    "print(x.size)"
   ]
  },
  {
   "cell_type": "raw",
   "id": "75410525-e807-49e1-9b98-8d2660dbff41",
   "metadata": {},
   "source": [
    "print(x.ndim)"
   ]
  },
  {
   "cell_type": "code",
   "execution_count": 14,
   "id": "43bb720a-1c86-4efd-abad-43f5274199d8",
   "metadata": {},
   "outputs": [
    {
     "name": "stdout",
     "output_type": "stream",
     "text": [
      "int64\n"
     ]
    }
   ],
   "source": [
    "print(x.dtype)"
   ]
  },
  {
   "cell_type": "code",
   "execution_count": 6,
   "id": "5dba61a0-4627-4c84-ae4d-38b9099f075e",
   "metadata": {},
   "outputs": [
    {
     "name": "stdout",
     "output_type": "stream",
     "text": [
      "[[5 4 3]\n",
      " [9 7 6]]\n"
     ]
    }
   ],
   "source": [
    "mat = np.array([[5,4,3],[9,7,6]]) \n",
    "print(mat)"
   ]
  },
  {
   "cell_type": "code",
   "execution_count": 7,
   "id": "399e51b0-4b5b-4e38-b799-2234430f0642",
   "metadata": {},
   "outputs": [
    {
     "name": "stdout",
     "output_type": "stream",
     "text": [
      "(2, 3)\n"
     ]
    }
   ],
   "source": [
    "print(mat.shape) # duita row ra duita column diyo"
   ]
  },
  {
   "cell_type": "code",
   "execution_count": 8,
   "id": "ff3a8d74-688d-4b45-9cef-3f051eed1382",
   "metadata": {},
   "outputs": [
    {
     "name": "stdout",
     "output_type": "stream",
     "text": [
      "6\n"
     ]
    }
   ],
   "source": [
    "print(mat.size)"
   ]
  },
  {
   "cell_type": "code",
   "execution_count": 9,
   "id": "644e205f-4839-4ebf-89c6-ee612ddd7bfd",
   "metadata": {},
   "outputs": [
    {
     "name": "stdout",
     "output_type": "stream",
     "text": [
      "2\n"
     ]
    }
   ],
   "source": [
    "print(mat.ndim)"
   ]
  },
  {
   "cell_type": "markdown",
   "id": "941cb356-0a45-4065-b308-33c147078158",
   "metadata": {},
   "source": [
    "###Slicing/Indexing\n"
   ]
  },
  {
   "cell_type": "code",
   "execution_count": 15,
   "id": "ba4a51c8-fd8f-4d51-970f-18b48a1df7e0",
   "metadata": {},
   "outputs": [
    {
     "name": "stdout",
     "output_type": "stream",
     "text": [
      "[ 4  5  6  7 15]\n"
     ]
    }
   ],
   "source": [
    "#indexing (particular element array bata nikalna)\n",
    "x = np.array([4,5,6,7,15])\n",
    "print(x)"
   ]
  },
  {
   "cell_type": "code",
   "execution_count": 20,
   "id": "457101bf-2880-441d-9e8a-b7aa55b03855",
   "metadata": {},
   "outputs": [
    {
     "name": "stdout",
     "output_type": "stream",
     "text": [
      "5\n"
     ]
    }
   ],
   "source": [
    "print(x[1])"
   ]
  },
  {
   "cell_type": "code",
   "execution_count": 21,
   "id": "dbd0de0a-e83b-40d9-a2d6-fac697149b07",
   "metadata": {},
   "outputs": [
    {
     "name": "stdout",
     "output_type": "stream",
     "text": [
      "[5 7 8]\n"
     ]
    }
   ],
   "source": [
    "#slicing array ko kei part or portion matra chahiyo\n",
    "#syntax: x[startindex : stopindex]\n",
    "##stop indexing exclusive ie nadiye pani hunxa\n",
    "\n",
    "x = np.array([5,7,8,2,9,15])\n",
    "print(x[0:3])\n",
    "\n",
    "\n"
   ]
  },
  {
   "cell_type": "code",
   "execution_count": 23,
   "id": "e0143f55-3b28-418f-8c15-804ecda08aab",
   "metadata": {},
   "outputs": [
    {
     "name": "stdout",
     "output_type": "stream",
     "text": [
      "[7 8 2 9]\n"
     ]
    }
   ],
   "source": [
    "print(x[1:5])"
   ]
  },
  {
   "cell_type": "code",
   "execution_count": 24,
   "id": "2f1a1cd1-627f-4b34-8165-cce17fadc119",
   "metadata": {},
   "outputs": [
    {
     "name": "stdout",
     "output_type": "stream",
     "text": [
      "[ 7  8  2  9 15]\n"
     ]
    }
   ],
   "source": [
    "print(x[1:]) # stop index diyena vane jata samma xa array tei samma dinxa"
   ]
  },
  {
   "cell_type": "code",
   "execution_count": null,
   "id": "d4d2ce1e-b2af-4afb-88a2-d737ee0f2b35",
   "metadata": {},
   "outputs": [],
   "source": [
    "#slicing syntax: x[startindex: stopindex: step] BY default step is 1"
   ]
  },
  {
   "cell_type": "code",
   "execution_count": 25,
   "id": "7b2a97a2-af85-4b03-85ee-3d924ee9be02",
   "metadata": {},
   "outputs": [
    {
     "name": "stdout",
     "output_type": "stream",
     "text": [
      "[5 8 9]\n"
     ]
    }
   ],
   "source": [
    "x = np.array([5,7,8,2,9,15])\n",
    "print(x[:6: 2])# 2 step le hidyo"
   ]
  },
  {
   "cell_type": "code",
   "execution_count": 26,
   "id": "e7cba642-ad9c-43b5-806e-1f5f52c5e71e",
   "metadata": {},
   "outputs": [
    {
     "data": {
      "text/plain": [
       "array([ 5,  7,  8,  2,  9, 15])"
      ]
     },
     "execution_count": 26,
     "metadata": {},
     "output_type": "execute_result"
    }
   ],
   "source": [
    "x[::]"
   ]
  },
  {
   "cell_type": "code",
   "execution_count": 31,
   "id": "5c8a006f-c5b9-40b8-8322-46b5ab69372b",
   "metadata": {},
   "outputs": [
    {
     "name": "stdout",
     "output_type": "stream",
     "text": [
      "[15  9  2  8  7  5]\n"
     ]
    }
   ],
   "source": [
    "print(x[::-1])"
   ]
  },
  {
   "cell_type": "code",
   "execution_count": 32,
   "id": "ec6853f0-467f-44ff-98de-e40aa735acd4",
   "metadata": {},
   "outputs": [
    {
     "data": {
      "text/plain": [
       "array([7, 8, 2, 9])"
      ]
     },
     "execution_count": 32,
     "metadata": {},
     "output_type": "execute_result"
    }
   ],
   "source": [
    "x[1:-1]"
   ]
  },
  {
   "cell_type": "code",
   "execution_count": 33,
   "id": "720ad98c-bb3c-43fb-a1ef-58c6e7aa4adc",
   "metadata": {},
   "outputs": [
    {
     "data": {
      "text/plain": [
       "array([], dtype=int64)"
      ]
     },
     "execution_count": 33,
     "metadata": {},
     "output_type": "execute_result"
    }
   ],
   "source": [
    "x[-2:1] #by default +1 step size dinxa step lai -1 garaune"
   ]
  },
  {
   "cell_type": "code",
   "execution_count": 34,
   "id": "f5f39525-720d-4960-9caa-da3f58baff72",
   "metadata": {},
   "outputs": [
    {
     "data": {
      "text/plain": [
       "array([9, 2, 8])"
      ]
     },
     "execution_count": 34,
     "metadata": {},
     "output_type": "execute_result"
    }
   ],
   "source": [
    "x[-2:1:-1]"
   ]
  },
  {
   "cell_type": "code",
   "execution_count": 37,
   "id": "10b765d8-8f0c-4312-93d1-1f35588b7fe5",
   "metadata": {},
   "outputs": [
    {
     "name": "stdout",
     "output_type": "stream",
     "text": [
      "[ 5  7  8  2  9 15]\n"
     ]
    }
   ],
   "source": [
    "#modification\n",
    "print(x)"
   ]
  },
  {
   "cell_type": "code",
   "execution_count": 39,
   "id": "372ed321-13b4-4d2b-99cb-c361051e47d7",
   "metadata": {},
   "outputs": [
    {
     "name": "stdout",
     "output_type": "stream",
     "text": [
      "[ 5  7  8 12  9 15]\n"
     ]
    }
   ],
   "source": [
    "# 2 lai 12 banaune  existing data ma\n",
    "x[3]= 12\n",
    "print(x)"
   ]
  },
  {
   "cell_type": "code",
   "execution_count": 36,
   "id": "cd469a17-f821-4d21-a810-0a2333ac7469",
   "metadata": {},
   "outputs": [
    {
     "name": "stdout",
     "output_type": "stream",
     "text": [
      "[5 7 8]\n"
     ]
    }
   ],
   "source": [
    "\n",
    "#copy\n",
    "\n",
    "y = x[0:3]\n",
    "print(y)"
   ]
  },
  {
   "cell_type": "code",
   "execution_count": 40,
   "id": "5b6ac333-6b87-4868-922e-9f4ca9e4121e",
   "metadata": {},
   "outputs": [
    {
     "name": "stdout",
     "output_type": "stream",
     "text": [
      "[15  7  8]\n"
     ]
    }
   ],
   "source": [
    "y[0]= 15\n",
    "print(y)"
   ]
  },
  {
   "cell_type": "code",
   "execution_count": 41,
   "id": "968e0bd8-0a14-4f7c-9be8-20b26bb40c01",
   "metadata": {},
   "outputs": [
    {
     "name": "stdout",
     "output_type": "stream",
     "text": [
      "[15  7  8 12  9 15]\n"
     ]
    }
   ],
   "source": [
    "print(x)"
   ]
  },
  {
   "cell_type": "code",
   "execution_count": null,
   "id": "c758fbb4-eb55-4929-bfcc-261f0075225b",
   "metadata": {},
   "outputs": [],
   "source": []
  },
  {
   "cell_type": "code",
   "execution_count": null,
   "id": "69adc4c1-15b8-4c08-8219-0ff75d7c15ce",
   "metadata": {},
   "outputs": [],
   "source": [
    "# x  ma pani modify vayo y change garda x bata banako y numpy array dependent xan ie "
   ]
  },
  {
   "cell_type": "code",
   "execution_count": null,
   "id": "1d6f01e3-5cbe-4f0e-a0d9-a20b852ec925",
   "metadata": {},
   "outputs": [],
   "source": [
    "#copy view jun y banayin tyo hamle x ko view matra banako y\n",
    "#independ tarika le xuttai banauna xa changes nauna lai vane y i"
   ]
  },
  {
   "cell_type": "code",
   "execution_count": 44,
   "id": "5bab4187-6651-4f9c-bea0-8ec18ab6437f",
   "metadata": {},
   "outputs": [
    {
     "name": "stdout",
     "output_type": "stream",
     "text": [
      "[5 7 8]\n"
     ]
    }
   ],
   "source": [
    "#y lai independet banaune x bata \n",
    "\n",
    "x = np.array([5,7,8,2,9,15])\n",
    "\n",
    "y = x[0:3].copy() # copy garera y lai independ banaune\n",
    "print(y)"
   ]
  },
  {
   "cell_type": "code",
   "execution_count": 46,
   "id": "74e7c5cc-b1c2-4f39-a121-210108a63639",
   "metadata": {},
   "outputs": [
    {
     "name": "stdout",
     "output_type": "stream",
     "text": [
      "[15  7  8]\n"
     ]
    }
   ],
   "source": [
    "y[0]= 15\n",
    "print(y)"
   ]
  },
  {
   "cell_type": "code",
   "execution_count": 47,
   "id": "93cbc22d-c102-4790-b26e-cd29bcb958cb",
   "metadata": {},
   "outputs": [
    {
     "name": "stdout",
     "output_type": "stream",
     "text": [
      "[ 5  7  8  2  9 15]\n"
     ]
    }
   ],
   "source": [
    "print(x) # aba chai x ma pani change ayena"
   ]
  },
  {
   "cell_type": "code",
   "execution_count": 18,
   "id": "db435dd6-5249-428e-b396-4c0f10eb3133",
   "metadata": {},
   "outputs": [
    {
     "name": "stdout",
     "output_type": "stream",
     "text": [
      "15\n"
     ]
    }
   ],
   "source": [
    "#negative indexing last ko element -1 bata suru hunxa both direction ma hunxa ie forward and backward\n",
    "print(x[-1])"
   ]
  },
  {
   "cell_type": "code",
   "execution_count": null,
   "id": "cdcb7152-e62e-446c-bfa6-ad94329edf67",
   "metadata": {},
   "outputs": [],
   "source": []
  },
  {
   "cell_type": "code",
   "execution_count": null,
   "id": "0329093b-3994-418e-8a63-48b72c4ab338",
   "metadata": {},
   "outputs": [],
   "source": [
    "#Functions:\n",
    "np.sum()\n",
    "np.prod()\n",
    "\n",
    "np.min()\n",
    "np.max()\n",
    "\n",
    "np.mean()\n",
    "np.std()\n",
    "np.median()\n",
    "np.sort()\n",
    "np.medium\n",
    "#numpy array ma garna milne functions haru "
   ]
  },
  {
   "cell_type": "code",
   "execution_count": 48,
   "id": "7fb3a489-ceb6-4ddf-9fc9-7ee756a37b03",
   "metadata": {},
   "outputs": [],
   "source": [
    "x = np.array([5,7,8,9,15])"
   ]
  },
  {
   "cell_type": "code",
   "execution_count": 66,
   "id": "510af127-03d3-4ac9-85d0-f64f4816d408",
   "metadata": {},
   "outputs": [
    {
     "name": "stdout",
     "output_type": "stream",
     "text": [
      "Sum=49\n"
     ]
    }
   ],
   "source": [
    "sum = np.sum(x)\n",
    "print(f'Sum={sum}')"
   ]
  },
  {
   "cell_type": "code",
   "execution_count": null,
   "id": "18d3c26b-07b0-48f9-bab7-a75f6a702dab",
   "metadata": {},
   "outputs": [],
   "source": [
    "#x.shape xa vane numpy koarray lai call garne\n"
   ]
  },
  {
   "cell_type": "code",
   "execution_count": 67,
   "id": "5f11e3ac-62ab-4530-abb8-6893357e2921",
   "metadata": {},
   "outputs": [
    {
     "name": "stdout",
     "output_type": "stream",
     "text": [
      "Product=189000\n"
     ]
    }
   ],
   "source": [
    "product = np.prod(x)\n",
    "print(f'Product={product}')"
   ]
  },
  {
   "cell_type": "code",
   "execution_count": 68,
   "id": "337b6be6-2e83-44d9-9508-8849c6f2847a",
   "metadata": {},
   "outputs": [
    {
     "name": "stdout",
     "output_type": "stream",
     "text": [
      "Minimum=5\n"
     ]
    }
   ],
   "source": [
    "minimum = np.min(x)\n",
    "print(f'Minimum={minimum}')"
   ]
  },
  {
   "cell_type": "code",
   "execution_count": 69,
   "id": "f487ec66-428a-467a-8ee4-8a8616ee953f",
   "metadata": {},
   "outputs": [
    {
     "name": "stdout",
     "output_type": "stream",
     "text": [
      "Maximun=15\n"
     ]
    }
   ],
   "source": [
    "maximum = np.max(x)\n",
    "print(f'Maximun={maximum}')"
   ]
  },
  {
   "cell_type": "code",
   "execution_count": 59,
   "id": "7e1c46a5-b8f2-4319-a18d-26c8a271e97f",
   "metadata": {},
   "outputs": [
    {
     "name": "stdout",
     "output_type": "stream",
     "text": [
      "Avg=8.8\n"
     ]
    }
   ],
   "source": [
    "avg = np.mean(x)\n",
    "print(f'Avg={avg}')"
   ]
  },
  {
   "cell_type": "code",
   "execution_count": 62,
   "id": "be1bcf32-9c28-4120-a753-ef794737b6ac",
   "metadata": {},
   "outputs": [
    {
     "name": "stdout",
     "output_type": "stream",
     "text": [
      "Avg=8.80\n"
     ]
    }
   ],
   "source": [
    "\n",
    "print(f'Avg={avg:.2f}')"
   ]
  },
  {
   "cell_type": "code",
   "execution_count": 61,
   "id": "1d889f0c-41bf-4d8f-97ec-c272dd7a679b",
   "metadata": {},
   "outputs": [
    {
     "name": "stdout",
     "output_type": "stream",
     "text": [
      "Sum= 44\n"
     ]
    }
   ],
   "source": [
    "SD = np.std(x)\n",
    "print(f'Sum= {sum}')"
   ]
  },
  {
   "cell_type": "code",
   "execution_count": 71,
   "id": "8ed6e54d-6568-40dd-ac51-37bd77371a22",
   "metadata": {},
   "outputs": [
    {
     "name": "stdout",
     "output_type": "stream",
     "text": [
      "Median=7.5\n"
     ]
    }
   ],
   "source": [
    "median = np.median(x)\n",
    "print(f'Median={median}')"
   ]
  },
  {
   "cell_type": "code",
   "execution_count": 72,
   "id": "c05538ef-a128-4b48-bf9c-4d66adee3d0f",
   "metadata": {},
   "outputs": [
    {
     "name": "stdout",
     "output_type": "stream",
     "text": [
      " Sorting=[15  9  8  7  5  5]\n"
     ]
    }
   ],
   "source": [
    "Sort = np.sort(x)[::-1]# ascending order\n",
    "print(f' Sorting={Sort}')"
   ]
  },
  {
   "cell_type": "code",
   "execution_count": null,
   "id": "3bda2c5a-1574-4e8c-bba5-304811e7daf2",
   "metadata": {},
   "outputs": [],
   "source": []
  },
  {
   "cell_type": "code",
   "execution_count": null,
   "id": "6c5de88d-3e14-4d1a-8fdf-0b7adb730639",
   "metadata": {},
   "outputs": [],
   "source": [
    "Sort = np.sort(x)# ascending order\n",
    "print(Sort)"
   ]
  },
  {
   "cell_type": "code",
   "execution_count": 65,
   "id": "17e23a6e-76bb-4d61-abca-924169c08787",
   "metadata": {},
   "outputs": [
    {
     "name": "stdout",
     "output_type": "stream",
     "text": [
      "Unique=[ 5  7  8  9 15]\n"
     ]
    }
   ],
   "source": [
    "x = np.array([5,5,7,8,9,15])\n",
    "\n",
    "unique = np.unique(x)\n",
    "print(f'Unique={unique}')"
   ]
  },
  {
   "cell_type": "code",
   "execution_count": 73,
   "id": "ff7df625-93a4-4b37-bf73-cd3720f76d46",
   "metadata": {},
   "outputs": [
    {
     "name": "stdout",
     "output_type": "stream",
     "text": [
      "Help on _ArrayFunctionDispatcher in module numpy:\n",
      "\n",
      "sort(a, axis=-1, kind=None, order=None, *, stable=None)\n",
      "    Return a sorted copy of an array.\n",
      "\n",
      "    Parameters\n",
      "    ----------\n",
      "    a : array_like\n",
      "        Array to be sorted.\n",
      "    axis : int or None, optional\n",
      "        Axis along which to sort. If None, the array is flattened before\n",
      "        sorting. The default is -1, which sorts along the last axis.\n",
      "    kind : {'quicksort', 'mergesort', 'heapsort', 'stable'}, optional\n",
      "        Sorting algorithm. The default is 'quicksort'. Note that both 'stable'\n",
      "        and 'mergesort' use timsort or radix sort under the covers and,\n",
      "        in general, the actual implementation will vary with data type.\n",
      "        The 'mergesort' option is retained for backwards compatibility.\n",
      "    order : str or list of str, optional\n",
      "        When `a` is an array with fields defined, this argument specifies\n",
      "        which fields to compare first, second, etc.  A single field can\n",
      "        be specified as a string, and not all fields need be specified,\n",
      "        but unspecified fields will still be used, in the order in which\n",
      "        they come up in the dtype, to break ties.\n",
      "    stable : bool, optional\n",
      "        Sort stability. If ``True``, the returned array will maintain\n",
      "        the relative order of ``a`` values which compare as equal.\n",
      "        If ``False`` or ``None``, this is not guaranteed. Internally,\n",
      "        this option selects ``kind='stable'``. Default: ``None``.\n",
      "\n",
      "        .. versionadded:: 2.0.0\n",
      "\n",
      "    Returns\n",
      "    -------\n",
      "    sorted_array : ndarray\n",
      "        Array of the same type and shape as `a`.\n",
      "\n",
      "    See Also\n",
      "    --------\n",
      "    ndarray.sort : Method to sort an array in-place.\n",
      "    argsort : Indirect sort.\n",
      "    lexsort : Indirect stable sort on multiple keys.\n",
      "    searchsorted : Find elements in a sorted array.\n",
      "    partition : Partial sort.\n",
      "\n",
      "    Notes\n",
      "    -----\n",
      "    The various sorting algorithms are characterized by their average speed,\n",
      "    worst case performance, work space size, and whether they are stable. A\n",
      "    stable sort keeps items with the same key in the same relative\n",
      "    order. The four algorithms implemented in NumPy have the following\n",
      "    properties:\n",
      "\n",
      "    =========== ======= ============= ============ ========\n",
      "       kind      speed   worst case    work space   stable\n",
      "    =========== ======= ============= ============ ========\n",
      "    'quicksort'    1     O(n^2)            0          no\n",
      "    'heapsort'     3     O(n*log(n))       0          no\n",
      "    'mergesort'    2     O(n*log(n))      ~n/2        yes\n",
      "    'timsort'      2     O(n*log(n))      ~n/2        yes\n",
      "    =========== ======= ============= ============ ========\n",
      "\n",
      "    .. note:: The datatype determines which of 'mergesort' or 'timsort'\n",
      "       is actually used, even if 'mergesort' is specified. User selection\n",
      "       at a finer scale is not currently available.\n",
      "\n",
      "    For performance, ``sort`` makes a temporary copy if needed to make the data\n",
      "    `contiguous <https://numpy.org/doc/stable/glossary.html#term-contiguous>`_\n",
      "    in memory along the sort axis. For even better performance and reduced\n",
      "    memory consumption, ensure that the array is already contiguous along the\n",
      "    sort axis.\n",
      "\n",
      "    The sort order for complex numbers is lexicographic. If both the real\n",
      "    and imaginary parts are non-nan then the order is determined by the\n",
      "    real parts except when they are equal, in which case the order is\n",
      "    determined by the imaginary parts.\n",
      "\n",
      "    Previous to numpy 1.4.0 sorting real and complex arrays containing nan\n",
      "    values led to undefined behaviour. In numpy versions >= 1.4.0 nan\n",
      "    values are sorted to the end. The extended sort order is:\n",
      "\n",
      "      * Real: [R, nan]\n",
      "      * Complex: [R + Rj, R + nanj, nan + Rj, nan + nanj]\n",
      "\n",
      "    where R is a non-nan real value. Complex values with the same nan\n",
      "    placements are sorted according to the non-nan part if it exists.\n",
      "    Non-nan values are sorted as before.\n",
      "\n",
      "    quicksort has been changed to:\n",
      "    `introsort <https://en.wikipedia.org/wiki/Introsort>`_.\n",
      "    When sorting does not make enough progress it switches to\n",
      "    `heapsort <https://en.wikipedia.org/wiki/Heapsort>`_.\n",
      "    This implementation makes quicksort O(n*log(n)) in the worst case.\n",
      "\n",
      "    'stable' automatically chooses the best stable sorting algorithm\n",
      "    for the data type being sorted.\n",
      "    It, along with 'mergesort' is currently mapped to\n",
      "    `timsort <https://en.wikipedia.org/wiki/Timsort>`_\n",
      "    or `radix sort <https://en.wikipedia.org/wiki/Radix_sort>`_\n",
      "    depending on the data type.\n",
      "    API forward compatibility currently limits the\n",
      "    ability to select the implementation and it is hardwired for the different\n",
      "    data types.\n",
      "\n",
      "    Timsort is added for better performance on already or nearly\n",
      "    sorted data. On random data timsort is almost identical to\n",
      "    mergesort. It is now used for stable sort while quicksort is still the\n",
      "    default sort if none is chosen. For timsort details, refer to\n",
      "    `CPython listsort.txt\n",
      "    <https://github.com/python/cpython/blob/3.7/Objects/listsort.txt>`_\n",
      "    'mergesort' and 'stable' are mapped to radix sort for integer data types.\n",
      "    Radix sort is an O(n) sort instead of O(n log n).\n",
      "\n",
      "    NaT now sorts to the end of arrays for consistency with NaN.\n",
      "\n",
      "    Examples\n",
      "    --------\n",
      "    >>> import numpy as np\n",
      "    >>> a = np.array([[1,4],[3,1]])\n",
      "    >>> np.sort(a)                # sort along the last axis\n",
      "    array([[1, 4],\n",
      "           [1, 3]])\n",
      "    >>> np.sort(a, axis=None)     # sort the flattened array\n",
      "    array([1, 1, 3, 4])\n",
      "    >>> np.sort(a, axis=0)        # sort along the first axis\n",
      "    array([[1, 1],\n",
      "           [3, 4]])\n",
      "\n",
      "    Use the `order` keyword to specify a field to use when sorting a\n",
      "    structured array:\n",
      "\n",
      "    >>> dtype = [('name', 'S10'), ('height', float), ('age', int)]\n",
      "    >>> values = [('Arthur', 1.8, 41), ('Lancelot', 1.9, 38),\n",
      "    ...           ('Galahad', 1.7, 38)]\n",
      "    >>> a = np.array(values, dtype=dtype)       # create a structured array\n",
      "    >>> np.sort(a, order='height')                        # doctest: +SKIP\n",
      "    array([('Galahad', 1.7, 38), ('Arthur', 1.8, 41),\n",
      "           ('Lancelot', 1.8999999999999999, 38)],\n",
      "          dtype=[('name', '|S10'), ('height', '<f8'), ('age', '<i4')])\n",
      "\n",
      "    Sort by age, then height if ages are equal:\n",
      "\n",
      "    >>> np.sort(a, order=['age', 'height'])               # doctest: +SKIP\n",
      "    array([('Galahad', 1.7, 38), ('Lancelot', 1.8999999999999999, 38),\n",
      "           ('Arthur', 1.8, 41)],\n",
      "          dtype=[('name', '|S10'), ('height', '<f8'), ('age', '<i4')])\n",
      "\n"
     ]
    }
   ],
   "source": [
    "help(np.sort) #documentation"
   ]
  },
  {
   "cell_type": "code",
   "execution_count": null,
   "id": "5595fab6-5c35-4209-996c-8612c333b485",
   "metadata": {},
   "outputs": [],
   "source": [
    "#mathematical operations duita or dui bhanda badi numpy array ma"
   ]
  },
  {
   "cell_type": "code",
   "execution_count": null,
   "id": "cab9cd48-b11e-4f44-8b06-3b9b4651d00e",
   "metadata": {},
   "outputs": [],
   "source": [
    "#Array Arithmetic  # duita\n",
    "np.add()      +\n",
    "np.multiple   *\n",
    "np.divide     /\n",
    "np.floor_divide\n",
    "np.mod()\n",
    "np.power()\n",
    "np.sqrt()"
   ]
  },
  {
   "cell_type": "code",
   "execution_count": 74,
   "id": "9e9546e6-f423-42ea-ba8b-e27b5bd95ae9",
   "metadata": {},
   "outputs": [
    {
     "name": "stdout",
     "output_type": "stream",
     "text": [
      "[7 5 9 5]\n"
     ]
    }
   ],
   "source": [
    "x = np.array([5,4,6,1])#corresponding elements ko sum ie 5 +2 ,\n",
    "y = np.array([2,1,3,4])\n",
    "\n",
    "z= np.add(x,y)\n",
    "print(z)"
   ]
  },
  {
   "cell_type": "code",
   "execution_count": 77,
   "id": "59cb4c80-9239-4e0c-ac2d-2bac1308552d",
   "metadata": {},
   "outputs": [
    {
     "name": "stdout",
     "output_type": "stream",
     "text": [
      "[7 5 9 5]\n"
     ]
    }
   ],
   "source": [
    "#+ use garna ni sakinxa\n",
    "z = x + y\n",
    "print(z)"
   ]
  },
  {
   "cell_type": "code",
   "execution_count": 78,
   "id": "a0afebbb-3b93-4693-9146-db760f8ea6ab",
   "metadata": {},
   "outputs": [
    {
     "ename": "ValueError",
     "evalue": "operands could not be broadcast together with shapes (4,) (5,) ",
     "output_type": "error",
     "traceback": [
      "\u001b[31m---------------------------------------------------------------------------\u001b[39m",
      "\u001b[31mValueError\u001b[39m                                Traceback (most recent call last)",
      "\u001b[36mCell\u001b[39m\u001b[36m \u001b[39m\u001b[32mIn[78]\u001b[39m\u001b[32m, line 3\u001b[39m\n\u001b[32m      1\u001b[39m x = np.array([\u001b[32m5\u001b[39m,\u001b[32m4\u001b[39m,\u001b[32m6\u001b[39m,\u001b[32m1\u001b[39m])\u001b[38;5;66;03m#corresponding elements ko sum ie 5 +2 ,\u001b[39;00m\n\u001b[32m      2\u001b[39m y = np.array([\u001b[32m2\u001b[39m,\u001b[32m1\u001b[39m,\u001b[32m3\u001b[39m,\u001b[32m9\u001b[39m,\u001b[32m4\u001b[39m])\n\u001b[32m----> \u001b[39m\u001b[32m3\u001b[39m z= \u001b[43mnp\u001b[49m\u001b[43m.\u001b[49m\u001b[43madd\u001b[49m\u001b[43m(\u001b[49m\u001b[43mx\u001b[49m\u001b[43m,\u001b[49m\u001b[43my\u001b[49m\u001b[43m)\u001b[49m\n\u001b[32m      4\u001b[39m \u001b[38;5;28mprint\u001b[39m(z)\n",
      "\u001b[31mValueError\u001b[39m: operands could not be broadcast together with shapes (4,) (5,) "
     ]
    }
   ],
   "source": [
    "x = np.array([5,4,6,1])#corresponding elements ko sum ie 5 +2 ,\n",
    "y = np.array([2,1,3,9,4])\n",
    "z= np.add(x,y)\n",
    "print(z)# size same huna paryo"
   ]
  },
  {
   "cell_type": "code",
   "execution_count": 79,
   "id": "620e7f82-49d1-444f-967b-ac7758cb5c6d",
   "metadata": {},
   "outputs": [
    {
     "name": "stdout",
     "output_type": "stream",
     "text": [
      "[2.5  4.   2.   0.25]\n"
     ]
    }
   ],
   "source": [
    "x = np.array([5,4,6,1])\n",
    "y = np.array([2,1,3,4])\n",
    "\n",
    "z = x/y\n",
    "print(z)"
   ]
  },
  {
   "cell_type": "code",
   "execution_count": 80,
   "id": "1399864b-36df-43d7-a274-b532310b7e75",
   "metadata": {},
   "outputs": [
    {
     "name": "stdout",
     "output_type": "stream",
     "text": [
      "[2 4 2 0]\n"
     ]
    }
   ],
   "source": [
    "x = np.array([5,4,6,1]) # floor divide le point pachadi ko value didaina\n",
    "y = np.array([2,1,3,4])\n",
    "\n",
    "z = np.floor_divide(x,y)\n",
    "print(z)"
   ]
  },
  {
   "cell_type": "code",
   "execution_count": 81,
   "id": "9c962935-48df-433b-b01e-bc4c860603ab",
   "metadata": {},
   "outputs": [
    {
     "name": "stdout",
     "output_type": "stream",
     "text": [
      "[1 0 0 1]\n"
     ]
    }
   ],
   "source": [
    "z = np.mod(x,y) # remainder matra dinxa\n",
    "print(z)"
   ]
  },
  {
   "cell_type": "code",
   "execution_count": 82,
   "id": "d494cfff-fcb4-473c-9d95-db30fbf5b493",
   "metadata": {},
   "outputs": [
    {
     "name": "stdout",
     "output_type": "stream",
     "text": [
      "[ 25   4 216   1]\n"
     ]
    }
   ],
   "source": [
    "z = np.power(x,y)# x ra y lai multiple garera power dinxa  x ** y ie 5**2(2 power ma ho)\n",
    "print(z)"
   ]
  },
  {
   "cell_type": "code",
   "execution_count": 84,
   "id": "cd33d5f0-9e51-49cd-adb9-331f5a6b6f07",
   "metadata": {},
   "outputs": [
    {
     "name": "stdout",
     "output_type": "stream",
     "text": [
      "[2.23606798 2.         2.44948974 1.        ]\n"
     ]
    }
   ],
   "source": [
    "z = np.sqrt(x)\n",
    "print(z)"
   ]
  },
  {
   "cell_type": "code",
   "execution_count": 85,
   "id": "bceccd2e-a799-419f-8545-541f174e8380",
   "metadata": {},
   "outputs": [
    {
     "name": "stdout",
     "output_type": "stream",
     "text": [
      "[1.41421356 1.         1.73205081 2.        ]\n"
     ]
    }
   ],
   "source": [
    "z = np.sqrt(y)\n",
    "print(z)"
   ]
  },
  {
   "cell_type": "code",
   "execution_count": 86,
   "id": "d438f33f-acfc-490a-afe4-1e1a9f2cadaf",
   "metadata": {},
   "outputs": [],
   "source": [
    "#cube root lagauna xa bhane"
   ]
  },
  {
   "cell_type": "code",
   "execution_count": null,
   "id": "921f79c9-909d-4e9d-b521-2064f0680d39",
   "metadata": {},
   "outputs": [],
   "source": [
    "#Broadcasting\n",
    "\n",
    "- np.zeros()\n",
    "- np.ones()\n",
    "- np.full()\n",
    "- np.arrange()\n",
    "- np.linspace()\n",
    "- np.random.random()\n",
    "- np.random.randint()\n",
    "- np.random.uniform()\n",
    "#random generation"
   ]
  }
 ],
 "metadata": {
  "kernelspec": {
   "display_name": "Python 3 (ipykernel)",
   "language": "python",
   "name": "python3"
  },
  "language_info": {
   "codemirror_mode": {
    "name": "ipython",
    "version": 3
   },
   "file_extension": ".py",
   "mimetype": "text/x-python",
   "name": "python",
   "nbconvert_exporter": "python",
   "pygments_lexer": "ipython3",
   "version": "3.13.3"
  }
 },
 "nbformat": 4,
 "nbformat_minor": 5
}
